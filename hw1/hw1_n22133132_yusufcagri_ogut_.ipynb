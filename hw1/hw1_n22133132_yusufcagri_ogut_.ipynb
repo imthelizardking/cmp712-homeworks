{
  "cells": [
    {
      "cell_type": "markdown",
      "metadata": {
        "id": "8XI6G2xFdyn5"
      },
      "source": [
        "# Regression Analysis\n"
      ]
    },
    {
      "cell_type": "markdown",
      "metadata": {
        "id": "ccLlnATTdyn8"
      },
      "source": [
        "In this assignment you will train a model for a regression problem based on linear regression with polynomial feature extension. You are not allowed to use sklearn or any existing python libraries that implements Linear or Polynomial Regresssion in any form. You are expected to write the source code by yourselves, including the gradient descent algorithm. \n"
      ]
    },
    {
      "cell_type": "markdown",
      "metadata": {
        "id": "FLNEre4Adyn9"
      },
      "source": [
        "## Dataset\n",
        "You are given a 1D dataset and the ground truth targets for the regression in train.csv file. You are also provided with test.csv file for the model evaluations. Do not use any data from the test data in your model trainings. "
      ]
    },
    {
      "cell_type": "markdown",
      "metadata": {
        "id": "XMz5J5uBdyn-"
      },
      "source": [
        "## Requirements\n",
        "Include all the source codes in the following cells; make sure that the codes are sufficiently documented in each section. After training your model, provide regression plots for the train and test data (separately) as well. Report your MSE and average Root Mean Square Error that you obtain using the test data in the Report Section (below). Also, provide all the hyperparameters and their values following the source codes in seperate cells."
      ]
    },
    {
      "cell_type": "markdown",
      "source": [
        "Connect gdrive for train/test dataset:"
      ],
      "metadata": {
        "id": "1IuYoWzy4_SN"
      }
    },
    {
      "cell_type": "code",
      "source": [
        "from google.colab import drive # import lib\n",
        "drive.mount(\"/content/gdrive\") # mount gdrive"
      ],
      "metadata": {
        "colab": {
          "base_uri": "https://localhost:8080/"
        },
        "id": "7g5iE9aNd4OO",
        "outputId": "aa3a35cd-d411-41e9-84cc-736653b3bbe7"
      },
      "execution_count": 165,
      "outputs": [
        {
          "output_type": "stream",
          "name": "stdout",
          "text": [
            "Drive already mounted at /content/gdrive; to attempt to forcibly remount, call drive.mount(\"/content/gdrive\", force_remount=True).\n"
          ]
        }
      ]
    },
    {
      "cell_type": "markdown",
      "source": [
        "Import libraries:"
      ],
      "metadata": {
        "id": "1fDlAJAu5HcM"
      }
    },
    {
      "cell_type": "code",
      "source": [
        "import numpy as np # for np array ops\n",
        "import matplotlib.pyplot as plt # for visualization purposes"
      ],
      "metadata": {
        "id": "xr4Xjkxflw65"
      },
      "execution_count": 166,
      "outputs": []
    },
    {
      "cell_type": "markdown",
      "source": [
        "Read .csv from gdrive and parse \"x\" and \"t\" into two lists:"
      ],
      "metadata": {
        "id": "Aubzjodc5Ki0"
      }
    },
    {
      "cell_type": "code",
      "source": [
        "sTrainAdd = \"/content/gdrive/MyDrive/cmp712/hw1/train.csv\" # address of train.csv on gdriveg\n",
        "from pandas import * # for array ops\n",
        "data = read_csv(sTrainAdd) # read train.csv\n",
        "X = data['x'] # assign dataset argument into X\n",
        "vIdx = sorted(range(len(X)), key=lambda k: X[k])\n",
        "X = X[vIdx]\n",
        "min_x = min(X)\n",
        "X = X - min_x\n",
        "#X.sort_values(ascending=True)\n",
        "T = data['t'] # assign dataset value into T\n",
        "T = T[vIdx]\n",
        "TRAIN_DATASET_LENGTH = len(X) # get length of dataset\n",
        "print('Length of Training Data: ', TRAIN_DATASET_LENGTH)\n",
        "print('Train data visualized (x axis: X, y axis: T:')\n",
        "plt.scatter(X, T) # check if data is ok"
      ],
      "metadata": {
        "colab": {
          "base_uri": "https://localhost:8080/",
          "height": 319
        },
        "id": "qHtvwyZqeWOR",
        "outputId": "f8fbf6bd-191a-41b3-dfd8-d44e8b8154f2"
      },
      "execution_count": 301,
      "outputs": [
        {
          "output_type": "stream",
          "name": "stdout",
          "text": [
            "Length of Training Data:  150\n",
            "Train data visualized (x axis: X, y axis: T:\n"
          ]
        },
        {
          "output_type": "execute_result",
          "data": {
            "text/plain": [
              "<matplotlib.collections.PathCollection at 0x7f8bb78fd760>"
            ]
          },
          "metadata": {},
          "execution_count": 301
        },
        {
          "output_type": "display_data",
          "data": {
            "text/plain": [
              "<Figure size 432x288 with 1 Axes>"
            ],
            "image/png": "[encoded data removed]"
          },
          "metadata": {
            "needs_background": "light"
          }
        }
      ]
    },
    {
      "cell_type": "markdown",
      "source": [
        "**updateParams**, **calcDeriv** and **calcPoly** methods are created in order to set a generic structure for testing different order polynomials:"
      ],
      "metadata": {
        "id": "ANmtb1AbzEkC"
      }
    },
    {
      "cell_type": "markdown",
      "source": [
        "Generic method to calculate partial derivatives of MSE loss function wrt to polynomial parameters:"
      ],
      "metadata": {
        "id": "mefXDM0jKfbq"
      }
    },
    {
      "cell_type": "code",
      "source": [
        "def calcLossPartialDeriv(T_Pred, nOrder):\n",
        "  res = (-2/TRAIN_DATASET_LENGTH) * np.sum((T - T_Pred) * np.transpose(np.power(X, nOrder)))\n",
        "  return res"
      ],
      "metadata": {
        "id": "z2XBDFDguFHn"
      },
      "execution_count": 220,
      "outputs": []
    },
    {
      "cell_type": "markdown",
      "source": [
        "Generic method to calculate different order polynomials:"
      ],
      "metadata": {
        "id": "NACQFM25KaTz"
      }
    },
    {
      "cell_type": "code",
      "source": [
        "def calcPoly(x, params):\n",
        "  sum = 0\n",
        "  nOrder = len(params) - 1\n",
        "  for n in range(0, len(params)):\n",
        "    sum += params[n] * np.power(x, nOrder - n)\n",
        "  return sum"
      ],
      "metadata": {
        "id": "zzm5OEwdmTTA"
      },
      "execution_count": 240,
      "outputs": []
    },
    {
      "cell_type": "markdown",
      "source": [
        "Loss Function is Mean Squared Error **(MSE)**:"
      ],
      "metadata": {
        "id": "OJvZWMhszXIb"
      }
    },
    {
      "cell_type": "code",
      "source": [
        "def calcLoss(truth, pred, vParams, nReg):\n",
        "  loss = 1/TRAIN_DATASET_LENGTH * np.sum(np.power(truth - pred, 2)) + nReg * sum(vParams)/len(vParams)\n",
        "  return loss"
      ],
      "metadata": {
        "id": "kcI9FLcVmFTc"
      },
      "execution_count": 298,
      "outputs": []
    },
    {
      "cell_type": "markdown",
      "source": [
        "Trainer method:"
      ],
      "metadata": {
        "id": "uwHym-_4ze47"
      }
    },
    {
      "cell_type": "code",
      "source": [
        "def trainer(X, T, nLearningRate, nPolyOrder, nLossLim, nIterLim, nReg):\n",
        "  vPolyParams = np.zeros(nPolyOrder + 1) # Polynomial constants stored in np array\n",
        "  vLossPartialDerivs = np.zeros(nPolyOrder + 1) # Partial derivatives of loss function stored in np array\n",
        "  nIter = 0 # Iteration counter\n",
        "  nLoss = 999999 # Used for exit condition of minimum loss, initially set to a large number\n",
        "  while (abs(nLoss)>nLossLim) and (nIter<nIterLim): # train until loss decreases to a certain value or number of iterations reached\n",
        "    T_Pred = calcPoly(X, vPolyParams) # calculate predictor's values\n",
        "    nLoss = calcLoss(T, T_Pred, vPolyParams, nReg) # calculate loss\n",
        "    #print(nLoss)\n",
        "    for i in range(0, nPolyOrder+1): # calculate derivatives and update parameters\n",
        "      vLossPartialDerivs[i] = calcLossPartialDeriv(T_Pred, nPolyOrder-i) # calculate partial derivatives\n",
        "    vPolyParams = vPolyParams - nLearningRate * vLossPartialDerivs\n",
        "    nIter = nIter + 1\n",
        "    if(nIter%10==0):\n",
        "        print(\"progress:\", nIter/nIterLim*100, \"loss=\", nLoss)\n",
        "  return vPolyParams"
      ],
      "metadata": {
        "id": "Ibb-10lTHJ1z"
      },
      "execution_count": 296,
      "outputs": []
    },
    {
      "cell_type": "markdown",
      "source": [
        "Trainer wrapper:"
      ],
      "metadata": {
        "id": "I32pknUkHZLb"
      }
    },
    {
      "cell_type": "code",
      "source": [
        "# Hyperparam.s:\n",
        "LEARNING_RATE = 0.2\n",
        "REGULARIZATION = 0.2\n",
        "POLY_ORDER = 8\n",
        "LIM_LOSS = 0.01\n",
        "LIM_ITER = 1000\n",
        "vPolyParams = trainer(X, T, LEARNING_RATE, POLY_ORDER, LIM_LOSS, LIM_ITER, REGULARIZATION)\n",
        "print(vPolyParams)"
      ],
      "metadata": {
        "colab": {
          "base_uri": "https://localhost:8080/"
        },
        "id": "aQXAEhAXksZl",
        "outputId": "8570ed94-71f0-4c8e-d54b-f7590d4b019b"
      },
      "execution_count": 304,
      "outputs": [
        {
          "output_type": "stream",
          "name": "stdout",
          "text": [
            "progress: 1.0 loss= 0.21575362682407115\n",
            "progress: 2.0 loss= 0.15255045176591636\n",
            "progress: 3.0 loss= 0.14402445018760895\n",
            "progress: 4.0 loss= 0.141188850476151\n",
            "progress: 5.0 loss= 0.1394159604955771\n",
            "progress: 6.0 loss= 0.13804526567335054\n",
            "progress: 7.000000000000001 loss= 0.13691395305221016\n",
            "progress: 8.0 loss= 0.13595721290595641\n",
            "progress: 9.0 loss= 0.13513825476582014\n",
            "progress: 10.0 loss= 0.13443135061748568\n",
            "progress: 11.0 loss= 0.1338167334386579\n",
            "progress: 12.0 loss= 0.13327864712726264\n",
            "progress: 13.0 loss= 0.1328043502294709\n",
            "progress: 14.000000000000002 loss= 0.13238347049976576\n",
            "progress: 15.0 loss= 0.13200752955293957\n",
            "progress: 16.0 loss= 0.13166957359215098\n",
            "progress: 17.0 loss= 0.13136388071427801\n",
            "progress: 18.0 loss= 0.13108572709997574\n",
            "progress: 19.0 loss= 0.13083119957556752\n",
            "progress: 20.0 loss= 0.13059704501742572\n",
            "progress: 21.0 loss= 0.13038054913391742\n",
            "progress: 22.0 loss= 0.13017943871684312\n",
            "progress: 23.0 loss= 0.12999180266818766\n",
            "progress: 24.0 loss= 0.12981602806597367\n",
            "progress: 25.0 loss= 0.12965074829232193\n",
            "progress: 26.0 loss= 0.1294948008497404\n",
            "progress: 27.0 loss= 0.12934719297081781\n",
            "progress: 28.000000000000004 loss= 0.12920707350753252\n",
            "progress: 28.999999999999996 loss= 0.12907370988957154\n",
            "progress: 30.0 loss= 0.12894646918243363\n",
            "progress: 31.0 loss= 0.12882480246839303\n",
            "progress: 32.0 loss= 0.1287082319267106\n",
            "progress: 33.0 loss= 0.12859634011179993\n",
            "progress: 34.0 loss= 0.1284887610257437\n",
            "progress: 35.0 loss= 0.1283851726596321\n",
            "progress: 36.0 loss= 0.12828529074068307\n",
            "progress: 37.0 loss= 0.12818886347215505\n",
            "progress: 38.0 loss= 0.12809566709321984\n",
            "progress: 39.0 loss= 0.12800550211821735\n",
            "progress: 40.0 loss= 0.12791819014066413\n",
            "progress: 41.0 loss= 0.12783357110830287\n",
            "progress: 42.0 loss= 0.1277515009923612\n",
            "progress: 43.0 loss= 0.1276718497878509\n",
            "progress: 44.0 loss= 0.12759449979280651\n",
            "progress: 45.0 loss= 0.12751934412336274\n",
            "progress: 46.0 loss= 0.12744628542889308\n",
            "progress: 47.0 loss= 0.12737523477741894\n",
            "progress: 48.0 loss= 0.1273061106863939\n",
            "progress: 49.0 loss= 0.12723883827799323\n",
            "progress: 50.0 loss= 0.1271733485413486\n",
            "progress: 51.0 loss= 0.12710957768690784\n",
            "progress: 52.0 loss= 0.12704746658036475\n",
            "progress: 53.0 loss= 0.1269869602454925\n",
            "progress: 54.0 loss= 0.12692800742678617\n",
            "progress: 55.00000000000001 loss= 0.12687056020413714\n",
            "progress: 56.00000000000001 loss= 0.1268145736528698\n",
            "progress: 56.99999999999999 loss= 0.12676000554340114\n",
            "progress: 57.99999999999999 loss= 0.12670681607557538\n",
            "progress: 59.0 loss= 0.1266549676433916\n",
            "progress: 60.0 loss= 0.12660442462641508\n",
            "progress: 61.0 loss= 0.12655515320464678\n",
            "progress: 62.0 loss= 0.12650712119404364\n",
            "progress: 63.0 loss= 0.12646029790023974\n",
            "progress: 64.0 loss= 0.12641465398832682\n",
            "progress: 65.0 loss= 0.12637016136681847\n",
            "progress: 66.0 loss= 0.1263267930841538\n",
            "progress: 67.0 loss= 0.12628452323629588\n",
            "progress: 68.0 loss= 0.12624332688415493\n",
            "progress: 69.0 loss= 0.1262031799797167\n",
            "progress: 70.0 loss= 0.1261640592998918\n",
            "progress: 71.0 loss= 0.1261259423872147\n",
            "progress: 72.0 loss= 0.12608880749662402\n",
            "progress: 73.0 loss= 0.12605263354764631\n",
            "progress: 74.0 loss= 0.12601740008138138\n",
            "progress: 75.0 loss= 0.12598308722175772\n",
            "progress: 76.0 loss= 0.12594967564058768\n",
            "progress: 77.0 loss= 0.1259171465260046\n",
            "progress: 78.0 loss= 0.12588548155391177\n",
            "progress: 79.0 loss= 0.1258546628621155\n",
            "progress: 80.0 loss= 0.1258246730268504\n",
            "progress: 81.0 loss= 0.1257954950414391\n",
            "progress: 82.0 loss= 0.12576711229685586\n",
            "progress: 83.0 loss= 0.12573950856399038\n",
            "progress: 84.0 loss= 0.12571266797743144\n",
            "progress: 85.0 loss= 0.12568657502060707\n",
            "progress: 86.0 loss= 0.1256612145121408\n",
            "progress: 87.0 loss= 0.12563657159329328\n",
            "progress: 88.0 loss= 0.1256126317163791\n",
            "progress: 89.0 loss= 0.12558938063405567\n",
            "progress: 90.0 loss= 0.12556680438939508\n",
            "progress: 91.0 loss= 0.1255448893066593\n",
            "progress: 92.0 loss= 0.1255236219827072\n",
            "progress: 93.0 loss= 0.12550298927896977\n",
            "progress: 94.0 loss= 0.12548297831393765\n",
            "progress: 95.0 loss= 0.12546357645610998\n",
            "progress: 96.0 loss= 0.12544477131736026\n",
            "progress: 97.0 loss= 0.12542655074667883\n",
            "progress: 98.0 loss= 0.12540890282425615\n",
            "progress: 99.0 loss= 0.12539181585587572\n",
            "progress: 100.0 loss= 0.12537527836758752\n",
            "[ 0.17919884 -0.02414321 -0.30168147 -0.62897896 -0.91722347 -0.94175044\n",
            " -0.25917807  1.32089506  0.95890607]\n"
          ]
        }
      ]
    },
    {
      "cell_type": "markdown",
      "source": [
        "Visualize Training Data Result:"
      ],
      "metadata": {
        "id": "TPtGIcbw5Uoe"
      }
    },
    {
      "cell_type": "code",
      "source": [
        "T_Pred = calcPoly(X, vPolyParams)\n",
        "plt.scatter(X, T) \n",
        "plt.scatter(X, T_Pred)"
      ],
      "metadata": {
        "colab": {
          "base_uri": "https://localhost:8080/",
          "height": 283
        },
        "id": "r3R0wIOqqTHk",
        "outputId": "bd3f63a0-d3ab-45d6-fc96-ecc8da2de94a"
      },
      "execution_count": 305,
      "outputs": [
        {
          "output_type": "execute_result",
          "data": {
            "text/plain": [
              "<matplotlib.collections.PathCollection at 0x7f8bb740b9a0>"
            ]
          },
          "metadata": {},
          "execution_count": 305
        },
        {
          "output_type": "display_data",
          "data": {
            "text/plain": [
              "<Figure size 432x288 with 1 Axes>"
            ],
            "image/png": "[encoded data removed]"
          },
          "metadata": {
            "needs_background": "light"
          }
        }
      ]
    },
    {
      "cell_type": "markdown",
      "metadata": {
        "id": "FubOpmdZdyoA"
      },
      "source": [
        "# Report\n",
        "Write your test results and utilized hyperparameter parameter values in this section. Briefly discuss how your algorithm works; and why it works as it is."
      ]
    },
    {
      "cell_type": "code",
      "execution_count": null,
      "metadata": {
        "id": "ftGFf6OAdyoA"
      },
      "outputs": [],
      "source": []
    }
  ],
  "metadata": {
    "kernelspec": {
      "display_name": "Python 3",
      "language": "python",
      "name": "python3"
    },
    "language_info": {
      "codemirror_mode": {
        "name": "ipython",
        "version": 3
      },
      "file_extension": ".py",
      "mimetype": "text/x-python",
      "name": "python",
      "nbconvert_exporter": "python",
      "pygments_lexer": "ipython3",
      "version": "3.8.3"
    },
    "colab": {
      "provenance": []
    }
  },
  "nbformat": 4,
  "nbformat_minor": 0
}