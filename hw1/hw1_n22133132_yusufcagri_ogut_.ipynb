{
  "cells": [
    {
      "cell_type": "markdown",
      "metadata": {
        "id": "8XI6G2xFdyn5"
      },
      "source": [
        "# Regression Analysis\n"
      ]
    },
    {
      "cell_type": "markdown",
      "metadata": {
        "id": "ccLlnATTdyn8"
      },
      "source": [
        "In this assignment you will train a model for a regression problem based on linear regression with polynomial feature extension. You are not allowed to use sklearn or any existing python libraries that implements Linear or Polynomial Regresssion in any form. You are expected to write the source code by yourselves, including the gradient descent algorithm. \n"
      ]
    },
    {
      "cell_type": "markdown",
      "metadata": {
        "id": "FLNEre4Adyn9"
      },
      "source": [
        "## Dataset\n",
        "You are given a 1D dataset and the ground truth targets for the regression in train.csv file. You are also provided with test.csv file for the model evaluations. Do not use any data from the test data in your model trainings. "
      ]
    },
    {
      "cell_type": "markdown",
      "metadata": {
        "id": "XMz5J5uBdyn-"
      },
      "source": [
        "## Requirements\n",
        "Include all the source codes in the following cells; make sure that the codes are sufficiently documented in each section. After training your model, provide regression plots for the train and test data (separately) as well. Report your MSE and average Root Mean Square Error that you obtain using the test data in the Report Section (below). Also, provide all the hyperparameters and their values following the source codes in seperate cells."
      ]
    },
    {
      "cell_type": "markdown",
      "source": [
        "Connect gdrive for train/test dataset:"
      ],
      "metadata": {
        "id": "1IuYoWzy4_SN"
      }
    },
    {
      "cell_type": "code",
      "source": [
        "from google.colab import drive # import lib\n",
        "drive.mount(\"/content/gdrive\") # mount gdrive"
      ],
      "metadata": {
        "colab": {
          "base_uri": "https://localhost:8080/"
        },
        "id": "7g5iE9aNd4OO",
        "outputId": "4e961fad-53b7-4343-cc92-78bfa4c4de90"
      },
      "execution_count": 1,
      "outputs": [
        {
          "output_type": "stream",
          "name": "stdout",
          "text": [
            "Mounted at /content/gdrive\n"
          ]
        }
      ]
    },
    {
      "cell_type": "markdown",
      "source": [
        "Import libraries:"
      ],
      "metadata": {
        "id": "1fDlAJAu5HcM"
      }
    },
    {
      "cell_type": "code",
      "source": [
        "import numpy as np # for np array ops\n",
        "import matplotlib.pyplot as plt # for visualization purposes\n",
        "from pandas import * # for array ops"
      ],
      "metadata": {
        "id": "xr4Xjkxflw65"
      },
      "execution_count": 2,
      "outputs": []
    },
    {
      "cell_type": "markdown",
      "source": [
        "Read .csv from gdrive and parse \"x\" and \"t\" into two lists:"
      ],
      "metadata": {
        "id": "Aubzjodc5Ki0"
      }
    },
    {
      "cell_type": "code",
      "source": [
        "sTrainAdd = \"/content/gdrive/MyDrive/cmp712/hw1/train.csv\" # address of train.csv on gdriveg\n",
        "sTestAdd  = \"/content/gdrive/MyDrive/cmp712/hw1/test.csv\" # address of test.csv on gdriveg\n",
        "data = read_csv(sTrainAdd) # read train.csv\n",
        "X = data['x'] # assign dataset argument into X\n",
        "vIdx = sorted(range(len(X)), key=lambda k: X[k])\n",
        "X = X[vIdx]\n",
        "min_x = min(X)\n",
        "X = X - min_x\n",
        "#X.sort_values(ascending=True)\n",
        "T = data['t'] # assign dataset value into T\n",
        "T = T[vIdx]\n",
        "TRAIN_DATASET_LENGTH = len(X) # get length of dataset\n",
        "\n",
        "data_test = read_csv(sTestAdd) # read train.csv\n",
        "X_test = data_test['x']\n",
        "vIdx_test = sorted(range(len(X_test)), key=lambda k: X_test[k])\n",
        "X_test = X_test[vIdx_test]\n",
        "min_x_test = min(X_test)\n",
        "X_test = X_test - min_x_test\n",
        "#X_test.sort_values(ascending=True)\n",
        "T_test = data_test['t'] # assign dataset value into T\n",
        "T_test = T_test[vIdx_test]\n",
        "TEST_DATASET_LENGTH = len(X_test) # get length of dataset\n",
        "\n",
        "\n",
        "print('Length of Training Data: ', TRAIN_DATASET_LENGTH)\n",
        "print('Train data visualized (x axis: X, y axis: T:')\n",
        "plt.scatter(X, T) # check if data is ok\n",
        "print('Length of Test Data: ', TEST_DATASET_LENGTH)\n",
        "print('Test data visualized (x axis: X, y axis: T:')\n",
        "plt.scatter(X_test, T_test) # check if data is ok"
      ],
      "metadata": {
        "colab": {
          "base_uri": "https://localhost:8080/",
          "height": 352
        },
        "id": "qHtvwyZqeWOR",
        "outputId": "f96f86ce-deab-4752-f001-daa0422f6039"
      },
      "execution_count": 3,
      "outputs": [
        {
          "output_type": "stream",
          "name": "stdout",
          "text": [
            "Length of Training Data:  150\n",
            "Train data visualized (x axis: X, y axis: T:\n",
            "Length of Test Data:  100\n",
            "Test data visualized (x axis: X, y axis: T:\n"
          ]
        },
        {
          "output_type": "execute_result",
          "data": {
            "text/plain": [
              "<matplotlib.collections.PathCollection at 0x7ff2b5faff10>"
            ]
          },
          "metadata": {},
          "execution_count": 3
        },
        {
          "output_type": "display_data",
          "data": {
            "text/plain": [
              "<Figure size 432x288 with 1 Axes>"
            ],
            "image/png": "[encoded data removed]"
          },
          "metadata": {
            "needs_background": "light"
          }
        }
      ]
    },
    {
      "cell_type": "markdown",
      "source": [
        "**updateParams**, **calcDeriv** and **calcPoly** methods are created in order to set a generic structure for testing different order polynomials:"
      ],
      "metadata": {
        "id": "ANmtb1AbzEkC"
      }
    },
    {
      "cell_type": "markdown",
      "source": [
        "Generic method to calculate partial derivatives of MSE loss function wrt to polynomial parameters:"
      ],
      "metadata": {
        "id": "mefXDM0jKfbq"
      }
    },
    {
      "cell_type": "code",
      "source": [
        "def calcLossPartialDeriv(T_Pred, nOrder):\n",
        "  res = (-2/TRAIN_DATASET_LENGTH) * np.sum((T - T_Pred) * np.transpose(np.power(X, nOrder)))\n",
        "  return res"
      ],
      "metadata": {
        "id": "z2XBDFDguFHn"
      },
      "execution_count": 4,
      "outputs": []
    },
    {
      "cell_type": "markdown",
      "source": [
        "Generic method to calculate different order polynomials:"
      ],
      "metadata": {
        "id": "NACQFM25KaTz"
      }
    },
    {
      "cell_type": "code",
      "source": [
        "def calcPoly(x, params):\n",
        "  sum = 0\n",
        "  nOrder = len(params) - 1\n",
        "  for n in range(0, len(params)):\n",
        "    sum += params[n] * np.power(x, nOrder - n)\n",
        "  return sum"
      ],
      "metadata": {
        "id": "zzm5OEwdmTTA"
      },
      "execution_count": 5,
      "outputs": []
    },
    {
      "cell_type": "markdown",
      "source": [
        "Loss Function is Mean Squared Error **(MSE)**:"
      ],
      "metadata": {
        "id": "OJvZWMhszXIb"
      }
    },
    {
      "cell_type": "code",
      "source": [
        "def calcLoss(truth, pred, vParams, nReg):\n",
        "  loss = 1/TRAIN_DATASET_LENGTH * np.sum(np.power(truth - pred, 2)) + nReg * sum(vParams)/len(vParams)\n",
        "  return loss"
      ],
      "metadata": {
        "id": "kcI9FLcVmFTc"
      },
      "execution_count": 6,
      "outputs": []
    },
    {
      "cell_type": "markdown",
      "source": [
        "Trainer method:"
      ],
      "metadata": {
        "id": "uwHym-_4ze47"
      }
    },
    {
      "cell_type": "code",
      "source": [
        "def trainer(X, T, nLearningRate, nPolyOrder, nLossLim, nIterLim, nReg):\n",
        "  vLoss_training = np.zeros(nIterLim)\n",
        "  vLoss_test = np.zeros(nIterLim)\n",
        "  vPolyParams = np.zeros(nPolyOrder + 1) # Polynomial constants stored in np array\n",
        "  vLossPartialDerivs = np.zeros(nPolyOrder + 1) # Partial derivatives of loss function stored in np array\n",
        "  nIter = 0 # Iteration counter\n",
        "  nLoss_training = 999999 # Used for exit condition of minimum loss, initially set to a large number\n",
        "  nLoss_test = 0\n",
        "  while (abs(nLoss_training)>nLossLim) and (nIter<nIterLim): # train until loss decreases to a certain value or number of iterations reached\n",
        "    T_Pred = calcPoly(X, vPolyParams) # calculate predictor's values\n",
        "    nLoss_training = calcLoss(T, T_Pred, vPolyParams, nReg) # calculate loss\n",
        "    vLoss_training[nIter] = nLoss_training\n",
        "    for i in range(0, nPolyOrder+1): # calculate derivatives and update parameters\n",
        "      vLossPartialDerivs[i] = calcLossPartialDeriv(T_Pred, nPolyOrder-i) # calculate partial derivatives\n",
        "    vPolyParams = vPolyParams - nLearningRate * vLossPartialDerivs\n",
        "    T_Pred_test = calcPoly(X_test, vPolyParams) # calculate predictor's values\n",
        "    nLoss_test = calcLoss(T_test, T_Pred_test, vPolyParams, nReg) # calculate loss\n",
        "    vLoss_test[nIter] = nLoss_test    \n",
        "    nIter = nIter + 1\n",
        "    if(nIter%100==0):\n",
        "        print(\"progress:\", nIter/nIterLim*100, \"Training Loss=\", nLoss_training)\n",
        "        print(\"progress:\", nIter/nIterLim*100, \"Test Loss=\", nLoss_test)\n",
        "  return vPolyParams, vLoss_training, vLoss_test"
      ],
      "metadata": {
        "id": "Ibb-10lTHJ1z"
      },
      "execution_count": 7,
      "outputs": []
    },
    {
      "cell_type": "markdown",
      "source": [
        "Trainer wrapper:"
      ],
      "metadata": {
        "id": "I32pknUkHZLb"
      }
    },
    {
      "cell_type": "code",
      "source": [
        "# Hyperparam.s:\n",
        "LEARNING_RATE = 0.2\n",
        "REGULARIZATION = 0.2\n",
        "POLY_ORDER = 8\n",
        "LIM_LOSS = 0.01\n",
        "LIM_ITER = 1000\n",
        "vPolyParams, vLoss_training, vLoss_test = trainer(X, T, LEARNING_RATE, POLY_ORDER, LIM_LOSS, LIM_ITER, REGULARIZATION)\n",
        "print(vPolyParams)"
      ],
      "metadata": {
        "colab": {
          "base_uri": "https://localhost:8080/"
        },
        "id": "aQXAEhAXksZl",
        "outputId": "cf908761-c0f4-43ec-cebc-5f2c25a27c1f"
      },
      "execution_count": 15,
      "outputs": [
        {
          "output_type": "stream",
          "name": "stdout",
          "text": [
            "progress: 10.0 Training Loss= 0.13443135061748568\n",
            "progress: 10.0 Test Loss= 0.07092954355277625\n",
            "progress: 20.0 Training Loss= 0.13059704501742572\n",
            "progress: 20.0 Test Loss= 0.0714511670247622\n",
            "progress: 30.0 Training Loss= 0.12894646918243363\n",
            "progress: 30.0 Test Loss= 0.07179632066782653\n",
            "progress: 40.0 Training Loss= 0.12791819014066413\n",
            "progress: 40.0 Test Loss= 0.07201706638834604\n",
            "progress: 50.0 Training Loss= 0.1271733485413486\n",
            "progress: 50.0 Test Loss= 0.07223232530021716\n",
            "progress: 60.0 Training Loss= 0.12660442462641508\n",
            "progress: 60.0 Test Loss= 0.07247842343045215\n",
            "progress: 70.0 Training Loss= 0.1261640592998918\n",
            "progress: 70.0 Test Loss= 0.0727581859287463\n",
            "progress: 80.0 Training Loss= 0.1258246730268504\n",
            "progress: 80.0 Test Loss= 0.07306490997534261\n",
            "progress: 90.0 Training Loss= 0.12556680438939508\n",
            "progress: 90.0 Test Loss= 0.07339033608722645\n",
            "progress: 100.0 Training Loss= 0.12537527836758752\n",
            "progress: 100.0 Test Loss= 0.07372694056080271\n",
            "[ 0.17919884 -0.02414321 -0.30168147 -0.62897896 -0.91722347 -0.94175044\n",
            " -0.25917807  1.32089506  0.95890607]\n"
          ]
        }
      ]
    },
    {
      "cell_type": "markdown",
      "source": [
        "Visualize Training Data Result:"
      ],
      "metadata": {
        "id": "TPtGIcbw5Uoe"
      }
    },
    {
      "cell_type": "code",
      "source": [
        "T_Pred = calcPoly(X, vPolyParams)\n",
        "T_Pred_test = calcPoly(X_test, vPolyParams)\n",
        "plt.scatter(X, T) \n",
        "plt.scatter(X, T_Pred)\n",
        "plt.scatter(X_test, T_Pred_test)"
      ],
      "metadata": {
        "colab": {
          "base_uri": "https://localhost:8080/",
          "height": 282
        },
        "id": "r3R0wIOqqTHk",
        "outputId": "4be79fa8-26f4-4fbc-960d-10405181ad7f"
      },
      "execution_count": 16,
      "outputs": [
        {
          "output_type": "execute_result",
          "data": {
            "text/plain": [
              "<matplotlib.collections.PathCollection at 0x7ff2b248e610>"
            ]
          },
          "metadata": {},
          "execution_count": 16
        },
        {
          "output_type": "display_data",
          "data": {
            "text/plain": [
              "<Figure size 432x288 with 1 Axes>"
            ],
            "image/png": "[encoded data removed]"
          },
          "metadata": {
            "needs_background": "light"
          }
        }
      ]
    },
    {
      "cell_type": "markdown",
      "source": [
        "Plot Losses:"
      ],
      "metadata": {
        "id": "dkWca9S4nSXd"
      }
    },
    {
      "cell_type": "code",
      "source": [
        "plt.plot(vLoss_training)\n",
        "plt.plot(vLoss_test)"
      ],
      "metadata": {
        "id": "_xgeWHjEnU2r",
        "outputId": "14796f07-921c-4ee0-d61c-942a0e30d817",
        "colab": {
          "base_uri": "https://localhost:8080/",
          "height": 282
        }
      },
      "execution_count": 17,
      "outputs": [
        {
          "output_type": "execute_result",
          "data": {
            "text/plain": [
              "[<matplotlib.lines.Line2D at 0x7ff2b240b160>]"
            ]
          },
          "metadata": {},
          "execution_count": 17
        },
        {
          "output_type": "display_data",
          "data": {
            "text/plain": [
              "<Figure size 432x288 with 1 Axes>"
            ],
            "image/png": "[encoded data removed]"
          },
          "metadata": {
            "needs_background": "light"
          }
        }
      ]
    },
    {
      "cell_type": "markdown",
      "metadata": {
        "id": "FubOpmdZdyoA"
      },
      "source": [
        "# Report\n",
        "Write your test results and utilized hyperparameter parameter values in this section. Briefly discuss how your algorithm works; and why it works as it is."
      ]
    },
    {
      "cell_type": "code",
      "execution_count": null,
      "metadata": {
        "id": "ftGFf6OAdyoA"
      },
      "outputs": [],
      "source": []
    }
  ],
  "metadata": {
    "kernelspec": {
      "display_name": "Python 3",
      "language": "python",
      "name": "python3"
    },
    "language_info": {
      "codemirror_mode": {
        "name": "ipython",
        "version": 3
      },
      "file_extension": ".py",
      "mimetype": "text/x-python",
      "name": "python",
      "nbconvert_exporter": "python",
      "pygments_lexer": "ipython3",
      "version": "3.8.3"
    },
    "colab": {
      "provenance": []
    }
  },
  "nbformat": 4,
  "nbformat_minor": 0
}