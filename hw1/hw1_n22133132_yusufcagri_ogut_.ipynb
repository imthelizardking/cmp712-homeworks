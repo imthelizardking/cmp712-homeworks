{
  "cells": [
    {
      "cell_type": "markdown",
      "metadata": {
        "id": "8XI6G2xFdyn5"
      },
      "source": [
        "# Regression Analysis\n"
      ]
    },
    {
      "cell_type": "markdown",
      "metadata": {
        "id": "ccLlnATTdyn8"
      },
      "source": [
        "In this assignment you will train a model for a regression problem based on linear regression with polynomial feature extension. You are not allowed to use sklearn or any existing python libraries that implements Linear or Polynomial Regresssion in any form. You are expected to write the source code by yourselves, including the gradient descent algorithm. \n"
      ]
    },
    {
      "cell_type": "markdown",
      "metadata": {
        "id": "FLNEre4Adyn9"
      },
      "source": [
        "## Dataset\n",
        "You are given a 1D dataset and the ground truth targets for the regression in train.csv file. You are also provided with test.csv file for the model evaluations. Do not use any data from the test data in your model trainings. "
      ]
    },
    {
      "cell_type": "markdown",
      "metadata": {
        "id": "XMz5J5uBdyn-"
      },
      "source": [
        "## Requirements\n",
        "Include all the source codes in the following cells; make sure that the codes are sufficiently documented in each section. After training your model, provide regression plots for the train and test data (separately) as well. Report your MSE and average Root Mean Square Error that you obtain using the test data in the Report Section (below). Also, provide all the hyperparameters and their values following the source codes in seperate cells."
      ]
    },
    {
      "cell_type": "markdown",
      "source": [
        "Connect gdrive for train/test dataset:"
      ],
      "metadata": {
        "id": "1IuYoWzy4_SN"
      }
    },
    {
      "cell_type": "code",
      "source": [
        "from google.colab import drive # import lib\n",
        "drive.mount(\"/content/gdrive\") # mount gdrive"
      ],
      "metadata": {
        "colab": {
          "base_uri": "https://localhost:8080/"
        },
        "id": "7g5iE9aNd4OO",
        "outputId": "4f072897-9d8a-4ad9-e771-5844f54c39db"
      },
      "execution_count": 1,
      "outputs": [
        {
          "output_type": "stream",
          "name": "stdout",
          "text": [
            "Mounted at /content/gdrive\n"
          ]
        }
      ]
    },
    {
      "cell_type": "markdown",
      "source": [
        "Import libraries:"
      ],
      "metadata": {
        "id": "1fDlAJAu5HcM"
      }
    },
    {
      "cell_type": "code",
      "source": [
        "import numpy as np # for np array ops\n",
        "import matplotlib.pyplot as plt # for visualization purposes\n",
        "from pandas import * # for array ops"
      ],
      "metadata": {
        "id": "xr4Xjkxflw65"
      },
      "execution_count": 2,
      "outputs": []
    },
    {
      "cell_type": "markdown",
      "source": [
        "Read .csv from gdrive and parse \"x\" and \"t\" into two lists:"
      ],
      "metadata": {
        "id": "Aubzjodc5Ki0"
      }
    },
    {
      "cell_type": "code",
      "source": [
        "sTrainAdd = \"/content/gdrive/MyDrive/cmp712/hw1/train.csv\" # address of train.csv on gdriveg\n",
        "sTestAdd  = \"/content/gdrive/MyDrive/cmp712/hw1/test.csv\" # address of test.csv on gdriveg\n",
        "data = read_csv(sTrainAdd) # read train.csv\n",
        "X = data['x'] # assign dataset argument into X\n",
        "#vIdx = sorted(range(len(X)), key=lambda k: X[k])\n",
        "#X = X[vIdx]\n",
        "#min_x = min(X)\n",
        "#X = X - min_x\n",
        "#X.sort_values(ascending=True)\n",
        "T = data['t'] # assign dataset value into T\n",
        "T = T[vIdx]\n",
        "TRAIN_DATASET_LENGTH = len(X) # get length of dataset\n",
        "\n",
        "data_test = read_csv(sTestAdd) # read train.csv\n",
        "X_test = data_test['x']\n",
        "#vIdx_test = sorted(range(len(X_test)), key=lambda k: X_test[k])\n",
        "#X_test = X_test[vIdx_test]\n",
        "#min_x_test = min(X_test)\n",
        "#X_test = X_test - min_x_test\n",
        "#X_test.sort_values(ascending=True)\n",
        "T_test = data_test['t'] # assign dataset value into T\n",
        "T_test = T_test[vIdx_test]\n",
        "TEST_DATASET_LENGTH = len(X_test) # get length of dataset\n",
        "\n",
        "\n",
        "print('Length of Training Data: ', TRAIN_DATASET_LENGTH)\n",
        "print('Train data visualized (x axis: X, y axis: T:')\n",
        "plt.scatter(X, T) # check if data is ok\n",
        "print('Length of Test Data: ', TEST_DATASET_LENGTH)\n",
        "print('Test data visualized (x axis: X, y axis: T:')\n",
        "plt.scatter(X_test, T_test) # check if data is ok"
      ],
      "metadata": {
        "colab": {
          "base_uri": "https://localhost:8080/",
          "height": 517
        },
        "id": "qHtvwyZqeWOR",
        "outputId": "9cad1991-540b-4584-a627-0e9848ec22a2"
      },
      "execution_count": 34,
      "outputs": [
        {
          "output_type": "stream",
          "name": "stdout",
          "text": [
            "Length of Training Data:  150\n",
            "Train data visualized (x axis: X, y axis: T:\n",
            "Length of Test Data:  100\n",
            "Test data visualized (x axis: X, y axis: T:\n"
          ]
        },
        {
          "output_type": "execute_result",
          "data": {
            "text/plain": [
              "<matplotlib.collections.PathCollection at 0x7f1b7ff334c0>"
            ]
          },
          "metadata": {},
          "execution_count": 34
        },
        {
          "output_type": "display_data",
          "data": {
            "text/plain": [
              "<Figure size 640x480 with 1 Axes>"
            ],
            "image/png": "[encoded data removed]"
          },
          "metadata": {}
        }
      ]
    },
    {
      "cell_type": "markdown",
      "source": [
        "**updateParams**, **calcDeriv** and **calcPoly** methods are created in order to set a generic structure for testing different order polynomials:"
      ],
      "metadata": {
        "id": "ANmtb1AbzEkC"
      }
    },
    {
      "cell_type": "markdown",
      "source": [
        "Generic method to calculate partial derivatives of MSE loss function wrt to polynomial parameters:"
      ],
      "metadata": {
        "id": "mefXDM0jKfbq"
      }
    },
    {
      "cell_type": "code",
      "source": [
        "def calcLossPartialDeriv(T_Pred, nOrder):\n",
        "  res = (-2/TRAIN_DATASET_LENGTH) * np.sum((T - T_Pred) * np.transpose(np.power(X, nOrder)))\n",
        "  return res"
      ],
      "metadata": {
        "id": "z2XBDFDguFHn"
      },
      "execution_count": 9,
      "outputs": []
    },
    {
      "cell_type": "markdown",
      "source": [
        "Generic method to calculate different order polynomials:"
      ],
      "metadata": {
        "id": "NACQFM25KaTz"
      }
    },
    {
      "cell_type": "code",
      "source": [
        "def calcPoly(x, params):\n",
        "  sum = 0\n",
        "  nOrder = len(params) - 1\n",
        "  for n in range(0, len(params)):\n",
        "    sum += params[n] * np.power(x, nOrder - n)\n",
        "  return sum"
      ],
      "metadata": {
        "id": "zzm5OEwdmTTA"
      },
      "execution_count": 10,
      "outputs": []
    },
    {
      "cell_type": "markdown",
      "source": [
        "Loss Function is Mean Squared Error **(MSE)**:"
      ],
      "metadata": {
        "id": "OJvZWMhszXIb"
      }
    },
    {
      "cell_type": "code",
      "source": [
        "def calcLoss(truth, pred, vParams, nReg):\n",
        "  loss = 1/TRAIN_DATASET_LENGTH * np.sum(np.power(truth - pred, 2)) + nReg * sum(vParams)/len(vParams)\n",
        "  return loss"
      ],
      "metadata": {
        "id": "kcI9FLcVmFTc"
      },
      "execution_count": 11,
      "outputs": []
    },
    {
      "cell_type": "markdown",
      "source": [
        "Trainer method:"
      ],
      "metadata": {
        "id": "uwHym-_4ze47"
      }
    },
    {
      "cell_type": "code",
      "source": [
        "def trainer(X, T, nLearningRate, nPolyOrder, nLossLim, nIterLim, nReg):\n",
        "  vLoss_training = np.zeros(nIterLim)\n",
        "  vLoss_test = np.zeros(nIterLim)\n",
        "  vPolyParams = np.zeros(nPolyOrder + 1) # Polynomial constants stored in np array\n",
        "  vLossPartialDerivs = np.zeros(nPolyOrder + 1) # Partial derivatives of loss function stored in np array\n",
        "  nIter = 0 # Iteration counter\n",
        "  nLoss_training = 999999 # Used for exit condition of minimum loss, initially set to a large number\n",
        "  nLoss_test = 0\n",
        "  while (abs(nLoss_training)>nLossLim) and (nIter<nIterLim): # train until loss decreases to a certain value or number of iterations reached\n",
        "    T_Pred = calcPoly(X, vPolyParams) # calculate predictor's values\n",
        "    nLoss_training = calcLoss(T, T_Pred, vPolyParams, nReg) # calculate loss\n",
        "    vLoss_training[nIter] = nLoss_training\n",
        "    for i in range(0, nPolyOrder+1): # calculate derivatives and update parameters\n",
        "      vLossPartialDerivs[i] = calcLossPartialDeriv(T_Pred, nPolyOrder-i) # calculate partial derivatives\n",
        "    vPolyParams = vPolyParams - nLearningRate * vLossPartialDerivs\n",
        "    T_Pred_test = calcPoly(X_test, vPolyParams) # calculate predictor's values\n",
        "    nLoss_test = calcLoss(T_test, T_Pred_test, vPolyParams, nReg) # calculate loss\n",
        "    vLoss_test[nIter] = nLoss_test    \n",
        "    nIter = nIter + 1\n",
        "    if(nIter%100==0):\n",
        "        print(\"progress:\", nIter/nIterLim*100, \"Training Loss=\", nLoss_training)\n",
        "        print(\"progress:\", nIter/nIterLim*100, \"Test Loss=\", nLoss_test)\n",
        "  return vPolyParams, vLoss_training, vLoss_test"
      ],
      "metadata": {
        "id": "Ibb-10lTHJ1z"
      },
      "execution_count": 12,
      "outputs": []
    },
    {
      "cell_type": "code",
      "source": [
        "def trainer_v2(X, T, nLearningRate, nPolyOrder, nLossLim, nIterLim, nReg):\n",
        "  vLoss_training = np.zeros(nIterLim)\n",
        "  vLoss_test = np.zeros(nIterLim)\n",
        "  vPolyParams = np.zeros(nPolyOrder + 1) # Polynomial constants stored in np array\n",
        "  vLossPartialDerivs = np.zeros(nPolyOrder + 1) # Partial derivatives of loss function stored in np array\n",
        "  nIter = 0 # Iteration counter\n",
        "  nLoss_training = 999999 # Used for exit condition of minimum loss, initially set to a large number\n",
        "  nLoss_test = 0\n",
        "  while (nIter<nIterLim): # train until loss decreases to a certain value or number of iterations reached\n",
        "    for idx in range(TRAIN_DATASET_LENGTH):\n",
        "      T_Pred = calcPoly(X[idx], vPolyParams) # calculate predictor's values\n",
        "      nLoss_training = calcLoss(T[idx], T_Pred, vPolyParams, nReg) # calculate loss\n",
        "      # save loss in ITERxDATALENGTH matrix\n",
        "      for i in range(0, nPolyOrder+1): # calculate derivatives and update parameters\n",
        "        vLossPartialDerivs[i] = calcLossPartialDeriv(T_Pred, nPolyOrder-i) # calculate partial derivatives\n",
        "        vPolyParams = vPolyParams - nLearningRate * vLossPartialDerivs\n",
        "    nIter = nIter + 1\n",
        "    return vPolyParams, vLoss_training"
      ],
      "metadata": {
        "id": "Ii0LQvIGLKZs"
      },
      "execution_count": 15,
      "outputs": []
    },
    {
      "cell_type": "markdown",
      "source": [
        "Trainer wrapper:"
      ],
      "metadata": {
        "id": "I32pknUkHZLb"
      }
    },
    {
      "cell_type": "code",
      "source": [
        "# Hyperparam.s:\n",
        "LEARNING_RATE = 0.01\n",
        "REGULARIZATION = 0 #0.2\n",
        "POLY_ORDER = 8\n",
        "LIM_LOSS = 0.000001\n",
        "LIM_ITER = 1000000000\n",
        "#vPolyParams, vLoss_training, vLoss_test = trainer(X, T, LEARNING_RATE, POLY_ORDER, LIM_LOSS, LIM_ITER, REGULARIZATION)\n",
        "vPolyParams, vLoss_training = trainer_v2(X, T, LEARNING_RATE, POLY_ORDER, LIM_LOSS, LIM_ITER, REGULARIZATION)\n",
        "print(vPolyParams)"
      ],
      "metadata": {
        "colab": {
          "base_uri": "https://localhost:8080/"
        },
        "id": "aQXAEhAXksZl",
        "outputId": "c4e73ec4-5437-4d3b-9a01-7ceca0561a2e"
      },
      "execution_count": 39,
      "outputs": [
        {
          "output_type": "stream",
          "name": "stdout",
          "text": [
            "[-0.00544534 -0.01750286 -0.0264905  -0.08242494 -0.1330053  -0.41464378\n",
            " -0.67886174 -2.41771793  1.16160754]\n"
          ]
        }
      ]
    },
    {
      "cell_type": "markdown",
      "source": [
        "Visualize Training Data Result:"
      ],
      "metadata": {
        "id": "TPtGIcbw5Uoe"
      }
    },
    {
      "cell_type": "code",
      "source": [
        "T_Pred = calcPoly(X, vPolyParams)\n",
        "T_Pred_test = calcPoly(X_test, vPolyParams)\n",
        "plt.scatter(X, T) \n",
        "plt.scatter(X, T_Pred)\n",
        "#plt.scatter(X_test, T_Pred_test)"
      ],
      "metadata": {
        "colab": {
          "base_uri": "https://localhost:8080/",
          "height": 447
        },
        "id": "r3R0wIOqqTHk",
        "outputId": "0726ee4f-a57c-411f-e494-7d5910703b83"
      },
      "execution_count": 40,
      "outputs": [
        {
          "output_type": "execute_result",
          "data": {
            "text/plain": [
              "<matplotlib.collections.PathCollection at 0x7f1b7fdda400>"
            ]
          },
          "metadata": {},
          "execution_count": 40
        },
        {
          "output_type": "display_data",
          "data": {
            "text/plain": [
              "<Figure size 640x480 with 1 Axes>"
            ],
            "image/png": "[encoded data removed]"
          },
          "metadata": {}
        }
      ]
    },
    {
      "cell_type": "markdown",
      "source": [
        "Plot Losses:"
      ],
      "metadata": {
        "id": "dkWca9S4nSXd"
      }
    },
    {
      "cell_type": "code",
      "source": [
        "plt.plot(vLoss_training)\n",
        "plt.plot(vLoss_test)"
      ],
      "metadata": {
        "id": "_xgeWHjEnU2r",
        "outputId": "14796f07-921c-4ee0-d61c-942a0e30d817",
        "colab": {
          "base_uri": "https://localhost:8080/",
          "height": 282
        }
      },
      "execution_count": null,
      "outputs": [
        {
          "output_type": "execute_result",
          "data": {
            "text/plain": [
              "[<matplotlib.lines.Line2D at 0x7ff2b240b160>]"
            ]
          },
          "metadata": {},
          "execution_count": 17
        },
        {
          "output_type": "display_data",
          "data": {
            "text/plain": [
              "<Figure size 432x288 with 1 Axes>"
            ],
            "image/png": "[encoded data removed]"
          },
          "metadata": {
            "needs_background": "light"
          }
        }
      ]
    },
    {
      "cell_type": "markdown",
      "metadata": {
        "id": "FubOpmdZdyoA"
      },
      "source": [
        "# Report\n",
        "Write your test results and utilized hyperparameter parameter values in this section. Briefly discuss how your algorithm works; and why it works as it is."
      ]
    },
    {
      "cell_type": "code",
      "execution_count": null,
      "metadata": {
        "id": "ftGFf6OAdyoA"
      },
      "outputs": [],
      "source": []
    }
  ],
  "metadata": {
    "kernelspec": {
      "display_name": "Python 3",
      "language": "python",
      "name": "python3"
    },
    "language_info": {
      "codemirror_mode": {
        "name": "ipython",
        "version": 3
      },
      "file_extension": ".py",
      "mimetype": "text/x-python",
      "name": "python",
      "nbconvert_exporter": "python",
      "pygments_lexer": "ipython3",
      "version": "3.8.3"
    },
    "colab": {
      "provenance": []
    }
  },
  "nbformat": 4,
  "nbformat_minor": 0
}