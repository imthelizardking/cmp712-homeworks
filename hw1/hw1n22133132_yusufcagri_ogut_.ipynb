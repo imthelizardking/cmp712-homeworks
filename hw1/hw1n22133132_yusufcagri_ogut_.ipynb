{
  "cells": [
    {
      "cell_type": "markdown",
      "metadata": {
        "id": "8XI6G2xFdyn5"
      },
      "source": [
        "# Regression Analysis\n"
      ]
    },
    {
      "cell_type": "markdown",
      "metadata": {
        "id": "ccLlnATTdyn8"
      },
      "source": [
        "In this assignment you will train a model for a regression problem based on linear regression with polynomial feature extension. You are not allowed to use sklearn or any existing python libraries that implements Linear or Polynomial Regresssion in any form. You are expected to write the source code by yourselves, including the gradient descent algorithm. \n"
      ]
    },
    {
      "cell_type": "markdown",
      "metadata": {
        "id": "FLNEre4Adyn9"
      },
      "source": [
        "## Dataset\n",
        "You are given a 1D dataset and the ground truth targets for the regression in train.csv file. You are also provided with test.csv file for the model evaluations. Do not use any data from the test data in your model trainings. "
      ]
    },
    {
      "cell_type": "markdown",
      "metadata": {
        "id": "XMz5J5uBdyn-"
      },
      "source": [
        "## Requirements\n",
        "Include all the source codes in the following cells; make sure that the codes are sufficiently documented in each section. After training your model, provide regression plots for the train and test data (separately) as well. Report your MSE and average Root Mean Square Error that you obtain using the test data in the Report Section (below). Also, provide all the hyperparameters and their values following the source codes in seperate cells."
      ]
    },
    {
      "cell_type": "code",
      "execution_count": null,
      "metadata": {
        "id": "-XHShoZ1dyn_"
      },
      "outputs": [],
      "source": [
        "# write your codes below. Feel free to add new cells. \n",
        "#Try arranging code cells to include sematic operations together, e.g. input operations, training, testing, \n",
        "#plotting, so on..\n",
        "\n"
      ]
    },
    {
      "cell_type": "code",
      "source": [
        "# connect gdrive for train/test dataset\n",
        "from google.colab import drive\n",
        "\n",
        "drive.mount(\"/content/gdrive\")"
      ],
      "metadata": {
        "colab": {
          "base_uri": "https://localhost:8080/"
        },
        "id": "7g5iE9aNd4OO",
        "outputId": "5562dd90-4596-4286-d2a2-796d7b9e5c6f"
      },
      "execution_count": 4,
      "outputs": [
        {
          "output_type": "stream",
          "name": "stdout",
          "text": [
            "Mounted at /content/gdrive\n"
          ]
        }
      ]
    },
    {
      "cell_type": "code",
      "source": [
        "# Import libraries:\n",
        "import numpy as np\n",
        "import pandas as pd\n",
        "import matplotlib.pyplot as plt"
      ],
      "metadata": {
        "id": "xr4Xjkxflw65"
      },
      "execution_count": 12,
      "outputs": []
    },
    {
      "cell_type": "code",
      "source": [
        "# Read .csv from gdrive and parse \"x\" and \"t\" into two lists:\n",
        "trainAdd = \"/content/gdrive/MyDrive/cmp712/hw1/train.csv\"\n",
        "from pandas import *\n",
        "data = read_csv(trainAdd)\n",
        "X = data['x']\n",
        "T = data['t']\n",
        "nLengthData = len(X)\n",
        "#plt.scatter(x, t)\n",
        "#plt.show()"
      ],
      "metadata": {
        "id": "qHtvwyZqeWOR"
      },
      "execution_count": 22,
      "outputs": []
    },
    {
      "cell_type": "code",
      "source": [
        "# Train #\n",
        "# Hyperparam.s:\n",
        "nLearningRate = 0.01\n",
        "# Param.s:\n",
        "a = 0\n",
        "b = 0\n",
        "c = 0\n",
        "nIter = 0\n",
        "nIterLim = 10000\n",
        "nLossLim = 0.1\n",
        "nLoss = 9999\n",
        "\n",
        "while (nLoss>nLossLim) and (nIter<nIterLim):\n",
        "  T_Pred = a * X * np.transpose(X) + b * X + c\n",
        "  nLoss = calcLoss(T, T_Pred)\n",
        "  nLossDeriv_a = (-2/nLengthData) * sum((T- T_Pred) * (X * np.transpose(X)))\n",
        "  nLossDeriv_b = (-2/nLengthData) * sum((T- T_Pred) * (X))\n",
        "  nLossDeriv_c = (-2/nLengthData) * sum((T- T_Pred) * (1))\n",
        "  a = a - nLearningRate * nLoss * nLossDeriv_a\n",
        "  b = b - nLearningRate * nLoss * nLossDeriv_b\n",
        "  c = c - nLearningRate * nLoss * nLossDeriv_c\n",
        "  nIter = nIter + 1\n",
        "print(nIter)\n",
        "print(a, b, c)\n"
      ],
      "metadata": {
        "colab": {
          "base_uri": "https://localhost:8080/"
        },
        "id": "aQXAEhAXksZl",
        "outputId": "75dfd179-be4a-426f-8bc9-dbb76c579b9b"
      },
      "execution_count": 46,
      "outputs": [
        {
          "output_type": "stream",
          "name": "stdout",
          "text": [
            "10000\n",
            "-1.1572689115607386 -1.038727246338386 1.0838341059309164\n"
          ]
        }
      ]
    },
    {
      "cell_type": "code",
      "source": [
        "# Calc Loss:\n",
        "def calcLoss(truth, pred):\n",
        "  return 1/nLengthData * sum((truth - pred)*np.transpose(truth - pred))\n"
      ],
      "metadata": {
        "id": "qV4Vk_8qkXV_"
      },
      "execution_count": 43,
      "outputs": []
    },
    {
      "cell_type": "code",
      "source": [
        "# Check init results:\n",
        "# Making predictions\n",
        "T_Pred = a*X*np.transpose(X) + b*X + c\n",
        "\n",
        "plt.scatter(X, T) \n",
        "plt.plot([min(X), max(X)], [min(T_Pred), max(T_Pred)], color='red')  # regression line\n",
        "plt.show()"
      ],
      "metadata": {
        "colab": {
          "base_uri": "https://localhost:8080/",
          "height": 265
        },
        "id": "r3R0wIOqqTHk",
        "outputId": "99aff2a9-c626-47e2-f299-644e7210a811"
      },
      "execution_count": 48,
      "outputs": [
        {
          "output_type": "display_data",
          "data": {
            "text/plain": [
              "<Figure size 432x288 with 1 Axes>"
            ],
            "image/png": "[encoded data removed]"
          },
          "metadata": {
            "needs_background": "light"
          }
        }
      ]
    },
    {
      "cell_type": "markdown",
      "metadata": {
        "id": "FubOpmdZdyoA"
      },
      "source": [
        "# Report\n",
        "Write your test results and utilized hyperparameter parameter values in this section. Briefly discuss how your algorithm works; and why it works as it is."
      ]
    },
    {
      "cell_type": "code",
      "execution_count": null,
      "metadata": {
        "id": "ftGFf6OAdyoA"
      },
      "outputs": [],
      "source": []
    }
  ],
  "metadata": {
    "kernelspec": {
      "display_name": "Python 3",
      "language": "python",
      "name": "python3"
    },
    "language_info": {
      "codemirror_mode": {
        "name": "ipython",
        "version": 3
      },
      "file_extension": ".py",
      "mimetype": "text/x-python",
      "name": "python",
      "nbconvert_exporter": "python",
      "pygments_lexer": "ipython3",
      "version": "3.8.3"
    },
    "colab": {
      "provenance": []
    }
  },
  "nbformat": 4,
  "nbformat_minor": 0
}