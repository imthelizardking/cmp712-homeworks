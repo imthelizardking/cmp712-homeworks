{
  "cells": [
    {
      "cell_type": "markdown",
      "metadata": {
        "id": "-k-1Dn8_kYdg"
      },
      "source": [
        "### HW2 - Multinomial Logistic Regression & SVMs "
      ]
    },
    {
      "cell_type": "markdown",
      "metadata": {
        "id": "CdX7Rlk5kYdn"
      },
      "source": [
        "### Training and Evaluations"
      ]
    },
    {
      "cell_type": "markdown",
      "source": [
        "Connect gdrive for train/test datasets:"
      ],
      "metadata": {
        "id": "7jzAbe3u6Doe"
      }
    },
    {
      "cell_type": "code",
      "source": [
        "from google.colab import drive # import lib\n",
        "drive.mount(\"/content/gdrive\") # mount gdrive"
      ],
      "metadata": {
        "colab": {
          "base_uri": "https://localhost:8080/"
        },
        "id": "JnXWIu7ddxm3",
        "outputId": "3c6da90f-4d4a-423d-cf31-a533fe767426"
      },
      "execution_count": 1,
      "outputs": [
        {
          "output_type": "stream",
          "name": "stdout",
          "text": [
            "Mounted at /content/gdrive\n"
          ]
        }
      ]
    },
    {
      "cell_type": "markdown",
      "source": [
        "Import libraries:"
      ],
      "metadata": {
        "id": "isHlEzNW6G9Q"
      }
    },
    {
      "cell_type": "code",
      "source": [
        "import numpy as np # for np array ops\n",
        "import matplotlib.pyplot as plt # for visualization purposes\n",
        "import math\n",
        "from pandas import * # for reading and parsing .csv files\n",
        "from sklearn.model_selection import StratifiedKFold\n",
        "from sklearn.datasets import load_iris\n",
        "from sklearn.linear_model import LogisticRegression\n",
        "from sklearn.preprocessing import LabelEncoder\n",
        "from sklearn.svm import SVC\n",
        "from sklearn.metrics import accuracy_score\n",
        "from sklearn.metrics import f1_score"
      ],
      "metadata": {
        "id": "MOtNL3x8cwW4"
      },
      "execution_count": 2,
      "outputs": []
    },
    {
      "cell_type": "markdown",
      "source": [
        "Read Data:"
      ],
      "metadata": {
        "id": "v7gbLRAC6Moq"
      }
    },
    {
      "cell_type": "code",
      "source": [
        "sTrainAdd = \"/content/gdrive/MyDrive/MsC/cmp712/hw2/train.csv\" # address of train.csv on gdrive \n",
        "sTestAdd = \"/content/gdrive/MyDrive/MsC/cmp712/hw2/test.csv\" # address of train.csv on gdrive \n",
        "data_training = read_csv(sTrainAdd)\n",
        "data_test = read_csv(sTestAdd)"
      ],
      "metadata": {
        "id": "vG_WJMtAcw64"
      },
      "execution_count": 3,
      "outputs": []
    },
    {
      "cell_type": "markdown",
      "source": [
        "Preprocess Data:"
      ],
      "metadata": {
        "id": "mYp7VXm56Q9Z"
      }
    },
    {
      "cell_type": "code",
      "source": [
        "# Training Data Preprocessing\n",
        "temp = data_training.iloc[:,:]\n",
        "nRows, nColumns = temp.shape\n",
        "sClass = \"type\"\n",
        "x_training = DataFrame()\n",
        "y_training = DataFrame()\n",
        "for idxColumns in range(nColumns):\n",
        "  temp1 = data_training.iloc[:, idxColumns]\n",
        "  if temp1._name==sClass:\n",
        "    y_training = y_training.append(temp1)\n",
        "  else:\n",
        "    x_training = x_training.append(temp1)\n",
        "x_training = x_training.T\n",
        "y_training = y_training.T\n",
        "# Test Data Preprocessing\n",
        "temp = data_test.iloc[:,:]\n",
        "nRows, nColumns = temp.shape\n",
        "sClass = \"type\"\n",
        "x_test = DataFrame()\n",
        "y_test = DataFrame()\n",
        "for idxColumns in range(nColumns):\n",
        "  temp1 = data_test.iloc[:, idxColumns]\n",
        "  if temp1._name==sClass:\n",
        "    y_test = y_test.append(temp1)\n",
        "  else:\n",
        "    x_test = x_test.append(temp1)\n",
        "x_test = x_test.T\n",
        "y_test = y_test.T"
      ],
      "metadata": {
        "id": "7DMrRdU4fF1r",
        "colab": {
          "base_uri": "https://localhost:8080/"
        },
        "outputId": "a2d35ac3-1de1-4e59-dce1-99e91945563a"
      },
      "execution_count": 4,
      "outputs": [
        {
          "output_type": "stream",
          "name": "stderr",
          "text": [
            "<ipython-input-4-9ae2246f050c>:12: FutureWarning: The frame.append method is deprecated and will be removed from pandas in a future version. Use pandas.concat instead.\n",
            "  x_training = x_training.append(temp1)\n",
            "<ipython-input-4-9ae2246f050c>:12: FutureWarning: The frame.append method is deprecated and will be removed from pandas in a future version. Use pandas.concat instead.\n",
            "  x_training = x_training.append(temp1)\n",
            "<ipython-input-4-9ae2246f050c>:12: FutureWarning: The frame.append method is deprecated and will be removed from pandas in a future version. Use pandas.concat instead.\n",
            "  x_training = x_training.append(temp1)\n",
            "<ipython-input-4-9ae2246f050c>:12: FutureWarning: The frame.append method is deprecated and will be removed from pandas in a future version. Use pandas.concat instead.\n",
            "  x_training = x_training.append(temp1)\n",
            "<ipython-input-4-9ae2246f050c>:12: FutureWarning: The frame.append method is deprecated and will be removed from pandas in a future version. Use pandas.concat instead.\n",
            "  x_training = x_training.append(temp1)\n",
            "<ipython-input-4-9ae2246f050c>:10: FutureWarning: The frame.append method is deprecated and will be removed from pandas in a future version. Use pandas.concat instead.\n",
            "  y_training = y_training.append(temp1)\n",
            "<ipython-input-4-9ae2246f050c>:12: FutureWarning: The frame.append method is deprecated and will be removed from pandas in a future version. Use pandas.concat instead.\n",
            "  x_training = x_training.append(temp1)\n",
            "<ipython-input-4-9ae2246f050c>:12: FutureWarning: The frame.append method is deprecated and will be removed from pandas in a future version. Use pandas.concat instead.\n",
            "  x_training = x_training.append(temp1)\n",
            "<ipython-input-4-9ae2246f050c>:12: FutureWarning: The frame.append method is deprecated and will be removed from pandas in a future version. Use pandas.concat instead.\n",
            "  x_training = x_training.append(temp1)\n",
            "<ipython-input-4-9ae2246f050c>:12: FutureWarning: The frame.append method is deprecated and will be removed from pandas in a future version. Use pandas.concat instead.\n",
            "  x_training = x_training.append(temp1)\n",
            "<ipython-input-4-9ae2246f050c>:12: FutureWarning: The frame.append method is deprecated and will be removed from pandas in a future version. Use pandas.concat instead.\n",
            "  x_training = x_training.append(temp1)\n",
            "<ipython-input-4-9ae2246f050c>:26: FutureWarning: The frame.append method is deprecated and will be removed from pandas in a future version. Use pandas.concat instead.\n",
            "  x_test = x_test.append(temp1)\n",
            "<ipython-input-4-9ae2246f050c>:26: FutureWarning: The frame.append method is deprecated and will be removed from pandas in a future version. Use pandas.concat instead.\n",
            "  x_test = x_test.append(temp1)\n",
            "<ipython-input-4-9ae2246f050c>:26: FutureWarning: The frame.append method is deprecated and will be removed from pandas in a future version. Use pandas.concat instead.\n",
            "  x_test = x_test.append(temp1)\n",
            "<ipython-input-4-9ae2246f050c>:26: FutureWarning: The frame.append method is deprecated and will be removed from pandas in a future version. Use pandas.concat instead.\n",
            "  x_test = x_test.append(temp1)\n",
            "<ipython-input-4-9ae2246f050c>:26: FutureWarning: The frame.append method is deprecated and will be removed from pandas in a future version. Use pandas.concat instead.\n",
            "  x_test = x_test.append(temp1)\n",
            "<ipython-input-4-9ae2246f050c>:26: FutureWarning: The frame.append method is deprecated and will be removed from pandas in a future version. Use pandas.concat instead.\n",
            "  x_test = x_test.append(temp1)\n",
            "<ipython-input-4-9ae2246f050c>:26: FutureWarning: The frame.append method is deprecated and will be removed from pandas in a future version. Use pandas.concat instead.\n",
            "  x_test = x_test.append(temp1)\n",
            "<ipython-input-4-9ae2246f050c>:26: FutureWarning: The frame.append method is deprecated and will be removed from pandas in a future version. Use pandas.concat instead.\n",
            "  x_test = x_test.append(temp1)\n",
            "<ipython-input-4-9ae2246f050c>:26: FutureWarning: The frame.append method is deprecated and will be removed from pandas in a future version. Use pandas.concat instead.\n",
            "  x_test = x_test.append(temp1)\n",
            "<ipython-input-4-9ae2246f050c>:26: FutureWarning: The frame.append method is deprecated and will be removed from pandas in a future version. Use pandas.concat instead.\n",
            "  x_test = x_test.append(temp1)\n"
          ]
        }
      ]
    },
    {
      "cell_type": "markdown",
      "source": [
        "Encode Datasets:"
      ],
      "metadata": {
        "id": "sCsaUTiG6TC6"
      }
    },
    {
      "cell_type": "code",
      "source": [
        "# Fix Length #\n",
        "# Training:\n",
        "temp = data_training.iloc[:,:]\n",
        "nRows, nColumns = temp.shape\n",
        "for idx in range(nRows):\n",
        "  temp = x_training.length[idx]\n",
        "  if isinstance(temp, str):\n",
        "    x_training.length[idx] = float(temp[:-1])\n",
        "  elif math.isnan(temp):\n",
        "    x_training.length[idx] = 9999\n",
        "# Test:\n",
        "temp = data_test.iloc[:,:]\n",
        "nRows, nColumns = temp.shape\n",
        "for idx in range(nRows):\n",
        "  temp = x_test.length[idx]\n",
        "  if isinstance(temp, str):\n",
        "    x_test.length[idx] = float(temp[:-1])\n",
        "  elif math.isnan(temp):\n",
        "    x_test.length[idx] = 9999"
      ],
      "metadata": {
        "id": "zHZxelLK_lhA"
      },
      "execution_count": 5,
      "outputs": []
    },
    {
      "cell_type": "code",
      "source": [
        "# One-hot Encoding for Training Dataset:\n",
        "le = LabelEncoder() # create label object\n",
        "x_training.diet = le.fit_transform(x_training.diet)\n",
        "x_training.lived_in = le.fit_transform(x_training.lived_in)\n",
        "x_training.period = le.fit_transform(x_training.period)\n",
        "x_training.named_by = le.fit_transform(x_training.named_by)\n",
        "x_training.taxonomy = le.fit_transform(x_training.taxonomy)\n",
        "x_training.species = le.fit_transform(x_training.species)\n",
        "# Limit dataset #\n",
        "x_training_processed = x_training.drop(columns=['id', 'name', 'link']) # x_, argument used in training\n",
        "print(x_training_processed)\n",
        "# One-hot Encoding for Test Dataset:\n",
        "x_test.diet = le.fit_transform(x_test.diet)\n",
        "x_test.lived_in = le.fit_transform(x_test.lived_in)\n",
        "x_test.period = le.fit_transform(x_test.period)\n",
        "x_test.named_by = le.fit_transform(x_test.named_by)\n",
        "x_test.taxonomy = le.fit_transform(x_test.taxonomy)\n",
        "x_test.species = le.fit_transform(x_test.species)\n",
        "# Limit dataset #\n",
        "x_test_processed = x_test.drop(columns=['id', 'name', 'link']) # x_, argument used in training\n",
        "print(x_test_processed)"
      ],
      "metadata": {
        "id": "eC9evK1ZOUoU",
        "colab": {
          "base_uri": "https://localhost:8080/"
        },
        "outputId": "f1451138-7899-4011-9f29-96f4791a8fb1"
      },
      "execution_count": 6,
      "outputs": [
        {
          "output_type": "stream",
          "name": "stdout",
          "text": [
            "     diet  period  lived_in length  taxonomy  named_by  species\n",
            "0       0     108        25   9999         0        76       61\n",
            "1       2     108         1   5.15        34        11       95\n",
            "2       1      65         5   12.0        20       212      188\n",
            "3       1      43        24   21.0        49        64      181\n",
            "4       1      21        25   10.0        17        22       24\n",
            "..    ...     ...       ...    ...       ...       ...      ...\n",
            "241     1      11        13   9999        25       186      184\n",
            "242     1      10         2    3.0        13       161      120\n",
            "243     0      14         5    0.8        79       203      222\n",
            "244     0      42         1    7.6        58        14      182\n",
            "245     3     112        19   12.0        34        70      170\n",
            "\n",
            "[246 rows x 7 columns]\n",
            "    diet  period  lived_in length  taxonomy  named_by  species\n",
            "0      1      18        13    5.0        24        36       19\n",
            "1      1      41        17   23.0        21         8       51\n",
            "2      0      24        17    8.6        43        26       32\n",
            "3      0       2        17   12.0        30        50        6\n",
            "4      2      53        19    3.0        33        58       23\n",
            "..   ...     ...       ...    ...       ...       ...      ...\n",
            "57     1      51         2    5.0        20        10       50\n",
            "58     1      38        10    6.0         9        29       43\n",
            "59     0      39        11    8.1        31        47        1\n",
            "60     1      22         1    6.0         2        59       60\n",
            "61     1      22         1    3.0         3        49       58\n",
            "\n",
            "[62 rows x 7 columns]\n"
          ]
        }
      ]
    },
    {
      "cell_type": "code",
      "source": [
        "# Logistic Regression #\n",
        "# Training and mean_accuracy #\n",
        "skf = StratifiedKFold(n_splits=5)  #the number of folds is 5\n",
        "model = LogisticRegression(solver='lbfgs', max_iter=1000)\n",
        "accuracy_scores = []\n",
        "for train_index, test_index in skf.split(x_training_processed, y_training):\n",
        "  X_train, X_test = x_training_processed.iloc[train_index], x_training_processed.iloc[test_index]\n",
        "  y_train, y_test = y_training.iloc[train_index], y_training.iloc[test_index]  \n",
        "  model.fit(X_train, y_train)\n",
        "  accuracy = model.score(X_test, y_test)\n",
        "  accuracy_scores.append(accuracy)\n",
        "# Compute the mean accuracy across all folds\n",
        "np.savetxt('training_LR.csv', model.predict(x_training_processed), delimiter=',', fmt='%s') # save result to text\n",
        "np.savetxt('test_LR.csv', model.predict(x_test_processed), delimiter=',', fmt='%s') # save result to text\n",
        "mean_accuracy = sum(accuracy_scores) / len(accuracy_scores)\n",
        "print(\"Logistic Regression - Mean accuracy:\", mean_accuracy)"
      ],
      "metadata": {
        "id": "vCAAOQ-VrU5T"
      },
      "execution_count": null,
      "outputs": []
    },
    {
      "cell_type": "code",
      "source": [
        "# Logistic Regression #\n",
        "# Calculate Logistic Regression f1 score #\n",
        "f1_scores_LR = []\n",
        "# Perform k-fold stratified cross-validation\n",
        "for train_index, test_index in skf.split(x_, y):\n",
        "    X_train, X_test = x_.iloc[train_index], x_.iloc[test_index]\n",
        "    y_train, y_test = y.iloc[train_index], y.iloc[test_index] \n",
        "    model.fit(X_train, y_train) # Necessary code to compute the predictions using your classifier.\n",
        "    y_pred = model.predict(X_test)\n",
        "    # Compute the weighted-average F1-score for this fold\n",
        "    fold_f1_score = f1_score(y_test, y_pred, average='weighted')\n",
        "    f1_scores_LR.append(fold_f1_score)\n",
        "# Calculate the mean F1-score across all folds\n",
        "mean_weighted_f1_score = np.mean(f1_scores_LR)\n",
        "print(\"Logistic Regression - Mean weighted-average F1-score across\", 5, \"folds:\", mean_weighted_f1_score)"
      ],
      "metadata": {
        "id": "CVAxOsTssir1"
      },
      "execution_count": null,
      "outputs": []
    },
    {
      "cell_type": "markdown",
      "source": [
        "SVM:"
      ],
      "metadata": {
        "id": "3RkJ3ulfEglW"
      }
    },
    {
      "cell_type": "code",
      "source": [
        "# SVM #\n",
        "# Training and mean_accuracy #\n",
        "skf = StratifiedKFold(n_splits=3, shuffle=True)  # the number of folds is 3\n",
        "model_SVM = SVC(kernel = 'linear', decision_function_shape='ovo')\n",
        "accuracy_scores = []\n",
        "for train_index, test_index in skf.split(x_training_processed, y_training):\n",
        "  X_train, X_test = x_training_processed.iloc[train_index], x_training_processed.iloc[test_index]\n",
        "  y_train, y_test = y_training.iloc[train_index], y_training.iloc[test_index]\n",
        "  model_SVM.fit(X_train, y_train)\n",
        "  y_pred = model_SVM.predict(X_test)\n",
        "  accuracy = accuracy_score(y_test, y_pred)\n",
        "  accuracy_scores.append(accuracy)\n",
        "# Compute the mean accuracy across all folds\n",
        "np.savetxt('training_SVM.csv', model_SVM.predict(x_training_processed), delimiter=',', fmt='%s') # save result to text\n",
        "np.savetxt('test_SVM.csv', model_SVM.predict(x_test_processed), delimiter=',', fmt='%s') # save result to text\n",
        "mean_accuracy = sum(accuracy_scores) / len(accuracy_scores)\n",
        "print(\"SVM - Mean accuracy:\", mean_accuracy)"
      ],
      "metadata": {
        "colab": {
          "base_uri": "https://localhost:8080/"
        },
        "id": "J5p7lbU3iazx",
        "outputId": "5051554e-ac8e-4299-82c0-7405a53a1e4e"
      },
      "execution_count": 25,
      "outputs": [
        {
          "output_type": "stream",
          "name": "stderr",
          "text": [
            "/usr/local/lib/python3.10/dist-packages/sklearn/utils/validation.py:1143: DataConversionWarning: A column-vector y was passed when a 1d array was expected. Please change the shape of y to (n_samples, ), for example using ravel().\n",
            "  y = column_or_1d(y, warn=True)\n",
            "/usr/local/lib/python3.10/dist-packages/sklearn/utils/validation.py:1143: DataConversionWarning: A column-vector y was passed when a 1d array was expected. Please change the shape of y to (n_samples, ), for example using ravel().\n",
            "  y = column_or_1d(y, warn=True)\n",
            "/usr/local/lib/python3.10/dist-packages/sklearn/utils/validation.py:1143: DataConversionWarning: A column-vector y was passed when a 1d array was expected. Please change the shape of y to (n_samples, ), for example using ravel().\n",
            "  y = column_or_1d(y, warn=True)\n"
          ]
        },
        {
          "output_type": "stream",
          "name": "stdout",
          "text": [
            "SVM - Mean accuracy: 0.7642276422764228\n"
          ]
        }
      ]
    },
    {
      "cell_type": "code",
      "source": [
        "# SVM #\n",
        "# Calculate SVM f1 score #\n",
        "f1_scores_SVM = []\n",
        "# Perform k-fold stratified cross-validation\n",
        "for train_index, test_index in skf.split(x_, y):\n",
        "    X_train, X_test = x_.iloc[train_index], x_.iloc[test_index]\n",
        "    y_train, y_test = y.iloc[train_index], y.iloc[test_index] \n",
        "    svm.fit(X_train, y_train) # Necessary code to compute the predictions using your classifier.\n",
        "    y_pred = svm.predict(X_test)\n",
        "    # Compute the weighted-average F1-score for this fold\n",
        "    fold_f1_score = f1_score(y_test, y_pred, average='weighted')\n",
        "    f1_scores_SVM.append(fold_f1_score)\n",
        "# Calculate the mean F1-score across all folds\n",
        "mean_weighted_f1_score = np.mean(f1_scores_SVM)\n",
        "print(\"SVM - Mean weighted-average F1-score across\", 5, \"folds:\", mean_weighted_f1_score)"
      ],
      "metadata": {
        "id": "IUSzSxPT7UPK"
      },
      "execution_count": null,
      "outputs": []
    }
  ],
  "metadata": {
    "kernelspec": {
      "display_name": "Python 3",
      "language": "python",
      "name": "python3"
    },
    "language_info": {
      "codemirror_mode": {
        "name": "ipython",
        "version": 3
      },
      "file_extension": ".py",
      "mimetype": "text/x-python",
      "name": "python",
      "nbconvert_exporter": "python",
      "pygments_lexer": "ipython3",
      "version": "3.8.3"
    },
    "colab": {
      "provenance": []
    }
  },
  "nbformat": 4,
  "nbformat_minor": 0
}